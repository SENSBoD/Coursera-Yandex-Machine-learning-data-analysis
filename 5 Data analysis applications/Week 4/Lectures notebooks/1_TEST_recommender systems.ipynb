{
 "cells": [
  {
   "cell_type": "markdown",
   "metadata": {},
   "source": [
    "## Рекомендательные системы"
   ]
  },
  {
   "cell_type": "markdown",
   "metadata": {},
   "source": [
    "Небольшой интернет-магазин попросил вас добавить ранжирование товаров в блок \"Смотрели ранее\" - в нем теперь надо показывать не последние просмотренные пользователем товары, а те товары из просмотренных, которые он наиболее вероятно купит. Качество вашего решения будет оцениваться по количеству покупок в сравнении с прошлым решением в ходе А/В теста, т.к. по доходу от продаж статзначимость будет достигаться дольше из-за разброса цен. Таким образом, ничего заранее не зная про корреляцию оффлайновых и онлайновых метрик качества, в начале проекта вы можете лишь постараться оптимизировать recall@k и precision@k.\n",
    "\n",
    "Это задание посвящено построению простых бейзлайнов для этой задачи: ранжирование просмотренных товаров по частоте просмотров и по частоте покупок. Эти бейзлайны, с одной стороны, могут помочь вам грубо оценить возможный эффект от ранжирования товаров в блоке - например, чтобы вписать какие-то числа в коммерческое предложение заказчику, а с другой стороны, могут оказаться самым хорошим вариантом, если данных очень мало (недостаточно для обучения даже простых моделей).\n",
    "\n",
    "### Входные данные\n",
    "\n",
    "Вам дается две выборки с пользовательскими сессиями - id-шниками просмотренных и id-шниками купленных товаров. Одна выборка будет использоваться для обучения (оценки популярностей товаров), а другая - для теста.\n",
    "\n",
    "В файлах записаны сессии по одной в каждой строке. Формат сессии: id просмотренных товаров через , затем идёт ; после чего следуют id купленных товаров (если такие имеются), разделённые запятой. Например, 1,2,3,4; или 1,2,3,4;5,6.\n",
    "\n",
    "Гарантируется, что среди id купленных товаров все различные.\n",
    "\n",
    "### Важно:\n",
    "\n",
    "Сессии, в которых пользователь ничего не купил, исключаем из оценки качества.\n",
    "Если товар не встречался в обучающей выборке, его популярность равна 0.\n",
    "Рекомендуем разные товары. И их число должно быть не больше, чем количество различных просмотренных пользователем товаров.\n",
    "Рекомендаций всегда не больше, чем минимум из двух чисел: количество просмотренных пользователем товаров и k в recall@k / precision@k."
   ]
  },
  {
   "cell_type": "code",
   "execution_count": 1,
   "metadata": {},
   "outputs": [],
   "source": [
    "import numpy as np\n",
    "import pandas as pd"
   ]
  },
  {
   "cell_type": "code",
   "execution_count": 2,
   "metadata": {},
   "outputs": [],
   "source": [
    "# Reading train and test data\n",
    "with open('coursera_sessions_train.txt', 'r') as f:\n",
    "    cs_train = f.read().splitlines()\n",
    "with open('coursera_sessions_test.txt', 'r') as f:\n",
    "    cs_test = f.read().splitlines()"
   ]
  },
  {
   "cell_type": "code",
   "execution_count": 9,
   "metadata": {},
   "outputs": [],
   "source": [
    "# cs_train\n",
    "# cs_test"
   ]
  },
  {
   "cell_type": "code",
   "execution_count": 8,
   "metadata": {},
   "outputs": [],
   "source": [
    "# Create train array splitted by looks (look_items) and purchases (pur_items)\n",
    "cs_train_lp = []\n",
    "for cs in cs_train:\n",
    "    look_items, pur_items = cs.split(';')\n",
    "    look_items = list(map(int, look_items.split(',')))\n",
    "    if len(pur_items) > 0:\n",
    "        pur_items = list(map(int, pur_items.split(',')))\n",
    "    else:\n",
    "        pur_items = []\n",
    "    cs_train_lp.append([look_items, pur_items])\n",
    "    \n",
    "# Create test array splitted by looks (look_items) and purchases (pur_items)\n",
    "cs_test_lp = []\n",
    "for cs in cs_test:\n",
    "    look_items, pur_items = cs.split(';')\n",
    "    look_items = list(map(int, look_items.split(',')))\n",
    "    if len(pur_items) > 0:\n",
    "        pur_items = list(map(int, pur_items.split(',')))\n",
    "    else:\n",
    "        pur_items = []\n",
    "    cs_test_lp.append([look_items, pur_items])"
   ]
  },
  {
   "cell_type": "code",
   "execution_count": 16,
   "metadata": {},
   "outputs": [],
   "source": [
    "# cs_train_lp\n",
    "# cs_test_lp"
   ]
  },
  {
   "cell_type": "markdown",
   "metadata": {},
   "source": [
    "### Вопрос 1"
   ]
  },
  {
   "cell_type": "markdown",
   "metadata": {},
   "source": [
    "На обучении постройте частоты появления id в просмотренных и в купленных (id может несколько раз появляться в просмотренных, все появления надо учитывать)"
   ]
  },
  {
   "cell_type": "code",
   "execution_count": 13,
   "metadata": {},
   "outputs": [],
   "source": [
    "# Array of looks\n",
    "cs_train_l = [row[0] for row in cs_train_lp]\n",
    "cs_train_l_np = np.array( [id_n for cs in cs_train_l for id_n in cs] )\n",
    "\n",
    "# Array of unique ids and looks in train data\n",
    "cs_train_l_cnt = np.transpose(np.unique(cs_train_l_np, return_counts=True))"
   ]
  },
  {
   "cell_type": "code",
   "execution_count": 14,
   "metadata": {},
   "outputs": [
    {
     "data": {
      "text/plain": [
       "array([[     0,      6],\n",
       "       [     1,      6],\n",
       "       [     2,      9],\n",
       "       ...,\n",
       "       [102804,      1],\n",
       "       [102805,      1],\n",
       "       [102806,      1]], dtype=int64)"
      ]
     },
     "execution_count": 14,
     "metadata": {},
     "output_type": "execute_result"
    }
   ],
   "source": [
    "cs_train_l_cnt"
   ]
  },
  {
   "cell_type": "code",
   "execution_count": 26,
   "metadata": {},
   "outputs": [],
   "source": [
    "# Array of purchases\n",
    "cs_train_p = [row[1] for row in cs_train_lp]\n",
    "cs_train_p_np = np.array( [id_n for cs in cs_train_p for id_n in cs] )\n",
    "\n",
    "# Array of unique ids and purchases in train dataset\n",
    "cs_train_p_cnt = np.transpose(np.unique(cs_train_p_np, return_counts=True))"
   ]
  },
  {
   "cell_type": "code",
   "execution_count": 27,
   "metadata": {},
   "outputs": [
    {
     "data": {
      "text/plain": [
       "array([[     5,      1],\n",
       "       [     6,      2],\n",
       "       [     7,      2],\n",
       "       ...,\n",
       "       [102417,      1],\n",
       "       [102462,      1],\n",
       "       [102646,      1]], dtype=int64)"
      ]
     },
     "execution_count": 27,
     "metadata": {},
     "output_type": "execute_result"
    }
   ],
   "source": [
    "cs_train_p_cnt"
   ]
  },
  {
   "cell_type": "markdown",
   "metadata": {},
   "source": [
    "### Вопрос 2"
   ]
  },
  {
   "cell_type": "markdown",
   "metadata": {},
   "source": [
    "Реализуйте два алгоритма рекомендаций:\n",
    "- сортировка просмотренных id по популярности (частота появления в просмотренных),\n",
    "- сортировка просмотренных id по покупаемости (частота появления в покупках)."
   ]
  },
  {
   "cell_type": "code",
   "execution_count": 28,
   "metadata": {},
   "outputs": [],
   "source": [
    "# Sorting arrays of looks and purchases by counts\n",
    "cs_train_l_cnt = cs_train_l_cnt[cs_train_l_cnt[:,1].argsort()][::-1]\n",
    "cs_train_p_cnt = cs_train_p_cnt[cs_train_p_cnt[:,1].argsort()][::-1]"
   ]
  },
  {
   "cell_type": "markdown",
   "metadata": {},
   "source": [
    "### Вопрос 3"
   ]
  },
  {
   "cell_type": "markdown",
   "metadata": {},
   "source": [
    "Для данных алгоритмов выпишите через пробел AverageRecall@1, AveragePrecision@1, AverageRecall@5, AveragePrecision@5 на обучающей и тестовых выборках, округляя до 2 знака после запятой. Это будут ваши ответы в этом задании. Посмотрите, как они соотносятся друг с другом. Где качество получилось выше? Значимо ли это различие? Обратите внимание на различие качества на обучающей и тестовой выборке в случае рекомендаций по частотам покупки.\n",
    "\n",
    "Если частота одинаковая, то сортировать нужно по возрастанию момента просмотра (чем раньше появился в просмотренных, тем больше приоритет)"
   ]
  },
  {
   "cell_type": "code",
   "execution_count": 33,
   "metadata": {},
   "outputs": [],
   "source": [
    "def prec_rec_metrics(session, reccomendations, k):\n",
    "    purchase = 0\n",
    "    for ind in reccomendations:\n",
    "        if ind in session:\n",
    "            purchase += 1 \n",
    "    precision = purchase / k\n",
    "    recall = purchase / len(session)\n",
    "    return(precision, recall)"
   ]
  },
  {
   "cell_type": "code",
   "execution_count": 34,
   "metadata": {},
   "outputs": [],
   "source": [
    "# Calculate metrics for train dataset, suggestions based on looks\n",
    "prec_at_1_tr_l, rec_at_1_tr_l = [], []\n",
    "prec_at_5_tr_l, rec_at_5_tr_l = [], []\n",
    "k1, k5 = 1, 5\n",
    "for i, cs_p in enumerate(cs_train_p):\n",
    "    # skip sessions without purchases\n",
    "    if cs_p == []: continue\n",
    "    \n",
    "    # looks ids\n",
    "    cs_l = cs_train_l[i]\n",
    "\n",
    "    # sorted looks ids indices in sess_train_l_cnt array\n",
    "    # sort in accordance with looks counts\n",
    "    l_ind_cs = []\n",
    "    for j in range(len(cs_l)):\n",
    "        l_ind_cs.append(np.where(cs_train_l_cnt[:,0] == cs_l[j])[0][0])\n",
    "    l_ind_cs_sorted = np.unique(l_ind_cs)\n",
    "    \n",
    "    # k1 recommendations\n",
    "    num_of_recs_k1 = min(k1, len(cs_l))\n",
    "    if num_of_recs_k1 == 0: continue\n",
    "    recs_k1 = cs_train_l_cnt[l_ind_cs_sorted[:num_of_recs_k1],0]\n",
    "    \n",
    "    # k1 metrics\n",
    "    prec_1, rec_1 = prec_rec_metrics(cs_p, recs_k1, k1)\n",
    "    prec_at_1_tr_l.append(prec_1)\n",
    "    rec_at_1_tr_l.append(rec_1)\n",
    "    \n",
    "    # k5 recommendations\n",
    "    num_of_recs_k5 = min(k5, len(cs_l))\n",
    "    if num_of_recs_k5 == 0: continue\n",
    "    recs_k5 = cs_train_l_cnt[l_ind_cs_sorted[:num_of_recs_k5],0]\n",
    "    \n",
    "    # k5 metrics\n",
    "    prec_5, rec_5 = prec_rec_metrics(cs_p, recs_k5, k5)\n",
    "    prec_at_5_tr_l.append(prec_5)\n",
    "    rec_at_5_tr_l.append(rec_5)"
   ]
  },
  {
   "cell_type": "code",
   "execution_count": 35,
   "metadata": {},
   "outputs": [],
   "source": [
    "avg_prec_at_1_tr_l = np.mean(prec_at_1_tr_l)\n",
    "avg_rec_at_1_tr_l = np.mean(rec_at_1_tr_l)\n",
    "avg_prec_at_5_tr_l = np.mean(prec_at_5_tr_l)\n",
    "avg_rec_at_5_tr_l = np.mean(rec_at_5_tr_l)"
   ]
  },
  {
   "cell_type": "code",
   "execution_count": 37,
   "metadata": {},
   "outputs": [
    {
     "name": "stdout",
     "output_type": "stream",
     "text": [
      "0.44 0.51 0.83 0.21\n"
     ]
    }
   ],
   "source": [
    "r1 = '%.2f' % round(avg_rec_at_1_tr_l, 2)\n",
    "p1 = '%.2f' % round(avg_prec_at_1_tr_l, 2)\n",
    "r5 = '%.2f' % round(avg_rec_at_5_tr_l, 2)\n",
    "p5 = '%.2f' % round(avg_prec_at_5_tr_l, 2)\n",
    "ans1 = ' '.join([r1, p1, r5, p5])\n",
    "print(ans1)"
   ]
  },
  {
   "cell_type": "code",
   "execution_count": 39,
   "metadata": {},
   "outputs": [],
   "source": [
    "# Calculate metrics for train dataset, suggestions based on purchases\n",
    "prec_at_1_tr_p, rec_at_1_tr_p = [], []\n",
    "prec_at_5_tr_p, rec_at_5_tr_p = [], []\n",
    "k1, k5 = 1, 5\n",
    "\n",
    "for i, cs_p in enumerate(cs_train_p):\n",
    "    # skip sessions without purchases\n",
    "    if cs_p == []: continue\n",
    "    \n",
    "    # looks ids\n",
    "    cs_l = cs_train_l[i]\n",
    "\n",
    "    # sorted looks ids indices in sess_train_p_cnt array\n",
    "    # sort in accordance with purchases counts\n",
    "    l_ind_cs = []\n",
    "    for j in range(len(cs_l)):\n",
    "        if cs_l[j] not in cs_train_p_cnt[:,0]: continue\n",
    "        l_ind_cs.append(np.where(cs_train_p_cnt[:,0] == cs_l[j])[0][0])\n",
    "    l_ind_cs_sorted = np.unique(l_ind_cs)\n",
    "    \n",
    "    # k1 recommendations\n",
    "    num_of_recs_k1 = min(k1, len(cs_l), len(l_ind_cs_sorted))\n",
    "    if num_of_recs_k1 == 0: continue\n",
    "    recs_k1 = cs_train_p_cnt[l_ind_cs_sorted[:num_of_recs_k1],0]\n",
    "    \n",
    "    # k1 metrics\n",
    "    prec_1, rec_1 = prec_rec_metrics(cs_p, recs_k1, k1)\n",
    "    prec_at_1_tr_p.append(prec_1)\n",
    "    rec_at_1_tr_p.append(rec_1)\n",
    "    \n",
    "    # k5 recommendations\n",
    "    num_of_recs_k5 = min(k5, len(cs_l), len(l_ind_cs_sorted))\n",
    "    if num_of_recs_k5 == 0: continue\n",
    "    recs_k5 = cs_train_p_cnt[l_ind_cs_sorted[:num_of_recs_k5],0]\n",
    "    \n",
    "    # k5 metrics\n",
    "    prec_5, rec_5 = prec_rec_metrics(cs_p, recs_k5, k5)\n",
    "    prec_at_5_tr_p.append(prec_5)\n",
    "    rec_at_5_tr_p.append(rec_5)"
   ]
  },
  {
   "cell_type": "code",
   "execution_count": 40,
   "metadata": {},
   "outputs": [],
   "source": [
    "avg_prec_at_1_tr_p = np.mean(prec_at_1_tr_p)\n",
    "avg_rec_at_1_tr_p = np.mean(rec_at_1_tr_p)\n",
    "avg_prec_at_5_tr_p = np.mean(prec_at_5_tr_p)\n",
    "avg_rec_at_5_tr_p = np.mean(rec_at_5_tr_p)"
   ]
  },
  {
   "cell_type": "code",
   "execution_count": 41,
   "metadata": {},
   "outputs": [
    {
     "name": "stdout",
     "output_type": "stream",
     "text": [
      "0.68 0.79 0.93 0.25\n"
     ]
    }
   ],
   "source": [
    "r1 = '%.2f' % round(avg_rec_at_1_tr_p, 2)\n",
    "p1 = '%.2f' % round(avg_prec_at_1_tr_p, 2)\n",
    "r5 = '%.2f' % round(avg_rec_at_5_tr_p, 2)\n",
    "p5 = '%.2f' % round(avg_prec_at_5_tr_p, 2)\n",
    "ans2 = ' '.join([r1, p1, r5, p5])\n",
    "print(ans2)"
   ]
  }
 ],
 "metadata": {
  "kernelspec": {
   "display_name": "Python 3",
   "language": "python",
   "name": "python3"
  },
  "language_info": {
   "codemirror_mode": {
    "name": "ipython",
    "version": 3
   },
   "file_extension": ".py",
   "mimetype": "text/x-python",
   "name": "python",
   "nbconvert_exporter": "python",
   "pygments_lexer": "ipython3",
   "version": "3.6.4"
  }
 },
 "nbformat": 4,
 "nbformat_minor": 2
}
